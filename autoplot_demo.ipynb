{
  "nbformat": 4,
  "nbformat_minor": 0,
  "metadata": {
    "colab": {
      "name": "autoplot_demo.ipynb",
      "provenance": [],
      "include_colab_link": true
    },
    "kernelspec": {
      "name": "python3",
      "display_name": "Python 3"
    }
  },
  "cells": [
    {
      "cell_type": "markdown",
      "metadata": {
        "id": "view-in-github",
        "colab_type": "text"
      },
      "source": [
        "<a href=\"https://colab.research.google.com/github/autoplot/python/blob/master/autoplot_demo.ipynb\" target=\"_parent\"><img src=\"https://colab.research.google.com/assets/colab-badge.svg\" alt=\"Open In Colab\"/></a>"
      ]
    },
    {
      "cell_type": "code",
      "metadata": {
        "id": "zQP8DkF5vrhd",
        "colab_type": "code",
        "colab": {
          "base_uri": "https://localhost:8080/",
          "height": 258
        },
        "outputId": "07adbbb1-8484-473c-ccca-c9e4f2c124ce"
      },
      "source": [
        "!pip install autoplot"
      ],
      "execution_count": 3,
      "outputs": [
        {
          "output_type": "stream",
          "text": [
            "Collecting autoplot\n",
            "  Downloading https://files.pythonhosted.org/packages/5d/35/4d6e6229c0e88d2ed2bb0d68ccde461134e2f2c09a1302ed60a90b945527/autoplot-0.3.9.tar.gz\n",
            "Collecting jpype1\n",
            "\u001b[?25l  Downloading https://files.pythonhosted.org/packages/07/09/e19ce27d41d4f66d73ac5b6c6a188c51b506f56c7bfbe6c1491db2d15995/JPype1-0.7.0-cp36-cp36m-manylinux2010_x86_64.whl (2.7MB)\n",
            "\u001b[K     |████████████████████████████████| 2.7MB 7.2MB/s \n",
            "\u001b[?25hRequirement already satisfied: numpy in /usr/local/lib/python3.6/dist-packages (from autoplot) (1.17.4)\n",
            "Building wheels for collected packages: autoplot\n",
            "  Building wheel for autoplot (setup.py) ... \u001b[?25l\u001b[?25hdone\n",
            "  Created wheel for autoplot: filename=autoplot-0.3.9-cp36-none-any.whl size=7816 sha256=a837cdf29d5f2218fd5cef2430a643fd3e0008f04c7c8768afa5a9f5d815d6e2\n",
            "  Stored in directory: /root/.cache/pip/wheels/88/21/6a/55a9b5e79c3887f7a31762ddedb163be39946f89ce1bf80af6\n",
            "Successfully built autoplot\n",
            "Installing collected packages: jpype1, autoplot\n",
            "Successfully installed autoplot-0.3.9 jpype1-0.7.0\n"
          ],
          "name": "stdout"
        }
      ]
    },
    {
      "cell_type": "code",
      "metadata": {
        "id": "_Gv-LNmAv7vA",
        "colab_type": "code",
        "colab": {
          "base_uri": "https://localhost:8080/",
          "height": 34
        },
        "outputId": "30a2aa16-d053-4e76-9886-58324fbc900a"
      },
      "source": [
        "import autoplot as ap"
      ],
      "execution_count": 4,
      "outputs": [
        {
          "output_type": "stream",
          "text": [
            "autoplot v0.3.9\n"
          ],
          "name": "stdout"
        }
      ]
    },
    {
      "cell_type": "code",
      "metadata": {
        "id": "tmNZ0gKxwAcn",
        "colab_type": "code",
        "colab": {
          "base_uri": "https://localhost:8080/",
          "height": 221
        },
        "outputId": "dd97b568-5d13-4773-aef4-83c5d1170a05"
      },
      "source": [
        "org= ap.javaaddpath(    )"
      ],
      "execution_count": 5,
      "outputs": [
        {
          "output_type": "stream",
          "text": [
            "Downloading: autoplot.jar Bytes: 31567215\n",
            "  31567215  [100.00%]\b\b\b\b\b\b\b\b\b\b\b\b\b\b\b\b\b\b\b\b\b\b \n",
            "Java is starting\n"
          ],
          "name": "stdout"
        },
        {
          "output_type": "stream",
          "text": [
            "/usr/local/lib/python3.6/dist-packages/jpype/_core.py:210: UserWarning: \n",
            "-------------------------------------------------------------------------------\n",
            "Deprecated: convertStrings was not specified when starting the JVM. The default\n",
            "behavior in JPype will be False starting in JPype 0.8. The recommended setting\n",
            "for new code is convertStrings=False.  The legacy value of True was assumed for\n",
            "this session. If you are a user of an application that reported this warning,\n",
            "please file a ticket with the developer.\n",
            "-------------------------------------------------------------------------------\n",
            "\n",
            "  \"\"\")\n"
          ],
          "name": "stderr"
        }
      ]
    },
    {
      "cell_type": "code",
      "metadata": {
        "id": "p0b8GFabwTa6",
        "colab_type": "code",
        "colab": {}
      },
      "source": [
        "apds = org.autoplot.idlsupport.APDataSet()"
      ],
      "execution_count": 0,
      "outputs": []
    },
    {
      "cell_type": "code",
      "metadata": {
        "id": "ct5U_oNiws6E",
        "colab_type": "code",
        "colab": {}
      },
      "source": [
        "if apds.loadDataSet( 'vap+cdaweb:ds=OMNI2_H0_MRG1HR&id=DST1800&timerange=Oct+2016' ): print( 'fail to read' )"
      ],
      "execution_count": 0,
      "outputs": []
    },
    {
      "cell_type": "code",
      "metadata": {
        "id": "EPf8fq3pxEc_",
        "colab_type": "code",
        "colab": {
          "base_uri": "https://localhost:8080/",
          "height": 68
        },
        "outputId": "21101914-144c-4e54-b892-9252bde689ab"
      },
      "source": [
        "print( apds.toString() ) "
      ],
      "execution_count": 17,
      "outputs": [
        {
          "output_type": "stream",
          "text": [
            "vap+cdaweb:ds=OMNI2_H0_MRG1HR&id=DST1800&timerange=Oct+2016\n",
            "DST: DST[Epoch=4416] (nT)\n",
            "Epoch: Epoch[4416] (cdfEpoch) (DEPEND_0)\n"
          ],
          "name": "stdout"
        }
      ]
    },
    {
      "cell_type": "code",
      "metadata": {
        "id": "k0sFO5nyxKVq",
        "colab_type": "code",
        "colab": {}
      },
      "source": [
        "epoch= ap.to_ndarray( apds, 'Epoch' )\n",
        "dst= ap.to_ndarray( apds, 'DST' )"
      ],
      "execution_count": 0,
      "outputs": []
    },
    {
      "cell_type": "code",
      "metadata": {
        "id": "r8Eb83T3xfOo",
        "colab_type": "code",
        "colab": {
          "base_uri": "https://localhost:8080/",
          "height": 265
        },
        "outputId": "82b380a1-0bd1-41d9-c2a1-4fc2e9d0b0f4"
      },
      "source": [
        "from matplotlib import pyplot as plt\n",
        "plt.plot(epoch,dst)\n",
        "plt.ylabel( apds.property( 'DST', 'LABEL' ) )\n",
        "plt.show()\n"
      ],
      "execution_count": 19,
      "outputs": [
        {
          "output_type": "display_data",
          "data": {
            "image/png": "[encoded data removed]",
            "text/plain": [
              "<Figure size 432x288 with 1 Axes>"
            ]
          },
          "metadata": {
            "tags": []
          }
        }
      ]
    }
  ]
}